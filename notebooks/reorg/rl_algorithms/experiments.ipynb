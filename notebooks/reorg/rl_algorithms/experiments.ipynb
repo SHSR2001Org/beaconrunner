{
 "cells": [
  {
   "cell_type": "code",
   "execution_count": 1,
   "id": "58fc8e95-5401-4b3b-a80c-9c2953ec9cd3",
   "metadata": {},
   "outputs": [
    {
     "name": "stderr",
     "output_type": "stream",
     "text": [
      "c:\\users\\shyam\\documents\\github\\beaconrunnerv2\\env\\lib\\site-packages\\gym\\logger.py:34: UserWarning: \u001b[33mWARN: Box bound precision lowered by casting to float32\u001b[0m\n",
      "  warnings.warn(colorize(\"%s: %s\" % (\"WARN\", msg % args), \"yellow\"))\n"
     ]
    }
   ],
   "source": [
    "import os, sys\n",
    "sys.path.append(\"../beaconrunner\")\n",
    "\n",
    "import numpy as np\n",
    "import pandas as pd\n",
    "\n",
    "import logging\n",
    "logger = logging.getLogger(__name__)\n",
    "logger.setLevel(logging.DEBUG)\n",
    "\n",
    "from experiments.run import run\n",
    "import experiments.templates.rl.experiment as rl_experiment"
   ]
  },
  {
   "cell_type": "code",
   "execution_count": 2,
   "id": "081de62e-b22d-4ebd-b750-51c1986ef427",
   "metadata": {},
   "outputs": [],
   "source": [
    "env = rl_experiment.beacon_env"
   ]
  },
  {
   "cell_type": "markdown",
   "id": "9a54fe63-5b2f-4179-b63e-f87a2d189313",
   "metadata": {},
   "source": [
    "## ACKTR"
   ]
  },
  {
   "cell_type": "code",
   "execution_count": null,
   "id": "b12877a3-3621-4bdb-8f97-fc9ab0848b7d",
   "metadata": {},
   "outputs": [],
   "source": [
    "import gym\n",
    "\n",
    "from stable_baselines.common.policies import MlpPolicy, MlpLstmPolicy, MlpLnLstmPolicy\n",
    "from stable_baselines.common import make_vec_env\n",
    "from stable_baselines import ACKTR\n",
    "\n",
    "model = ACKTR(MlpPolicy, env, verbose=1)\n",
    "model.learn(total_timesteps=25000)\n",
    "\n",
    "obs = env.reset()\n",
    "while True:\n",
    "    action, _states = model.predict(obs)\n",
    "    obs, rewards, dones, info = env.step(action)\n",
    "    env.render()"
   ]
  },
  {
   "cell_type": "markdown",
   "id": "94921a68-2ccd-4a92-97ac-e2acc1928f9b",
   "metadata": {},
   "source": [
    "## A2C"
   ]
  },
  {
   "cell_type": "code",
   "execution_count": null,
   "id": "61be0fe8-f8c9-4877-9448-9fc2364675cc",
   "metadata": {},
   "outputs": [],
   "source": [
    "import gym\n",
    "\n",
    "from stable_baselines.common.policies import MlpPolicy\n",
    "from stable_baselines.common import make_vec_env\n",
    "from stable_baselines import A2C\n",
    "\n",
    "model = A2C(MlpPolicy, env, verbose=1)\n",
    "model.learn(total_timesteps=25000)\n",
    "\n",
    "obs = env.reset()\n",
    "while True:\n",
    "    action, _states = model.predict(obs)\n",
    "    obs, rewards, dones, info = env.step(action)\n",
    "    env.render()"
   ]
  },
  {
   "cell_type": "markdown",
   "id": "cfeb37af-bb85-41aa-8762-baee673cb16d",
   "metadata": {},
   "source": [
    "## SAC"
   ]
  },
  {
   "cell_type": "code",
   "execution_count": null,
   "id": "0478a07a-3764-4bd7-942f-c18d919faa5c",
   "metadata": {},
   "outputs": [],
   "source": [
    "import gym\n",
    "\n",
    "from stable_baselines.common.policies import MlpPolicy\n",
    "from stable_baselines.common import make_vec_env\n",
    "from stable_baselines import SAC\n",
    "\n",
    "model = SAC(MlpPolicy, env, verbose=1)\n",
    "model.learn(total_timesteps=25000)\n",
    "\n",
    "obs = env.reset()\n",
    "while True:\n",
    "    action, _states = model.predict(obs)\n",
    "    obs, rewards, dones, info = env.step(action)\n",
    "    env.render()"
   ]
  }
 ],
 "metadata": {
  "kernelspec": {
   "display_name": "Python 3",
   "language": "python",
   "name": "python3"
  },
  "language_info": {
   "codemirror_mode": {
    "name": "ipython",
    "version": 3
   },
   "file_extension": ".py",
   "mimetype": "text/x-python",
   "name": "python",
   "nbconvert_exporter": "python",
   "pygments_lexer": "ipython3",
   "version": "3.8.2"
  }
 },
 "nbformat": 4,
 "nbformat_minor": 5
}
