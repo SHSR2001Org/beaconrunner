{
 "cells": [
  {
   "cell_type": "code",
   "execution_count": 1,
   "id": "ef696692-6e94-4469-bdb3-b54779364b16",
   "metadata": {},
   "outputs": [
    {
     "name": "stderr",
     "output_type": "stream",
     "text": [
      "c:\\users\\shyam\\documents\\github\\beaconrunnerv2\\env\\lib\\site-packages\\gym\\logger.py:30: UserWarning: \u001b[33mWARN: Box bound precision lowered by casting to float32\u001b[0m\n",
      "  warnings.warn(colorize('%s: %s'%('WARN', msg % args), 'yellow'))\n"
     ]
    }
   ],
   "source": [
    "import os, sys\n",
    "sys.path.append(\"./beaconrunner\")\n",
    "\n",
    "import numpy as np\n",
    "import pandas as pd\n",
    "\n",
    "import logging\n",
    "logger = logging.getLogger(__name__)\n",
    "logger.setLevel(logging.DEBUG)\n",
    "\n",
    "from experiments.run import run\n",
    "import experiments.templates.rl.experiment as rl_experiment"
   ]
  },
  {
   "cell_type": "code",
   "execution_count": 2,
   "id": "7ea79c1f-488d-4956-9b20-5605286a2105",
   "metadata": {},
   "outputs": [
    {
     "name": "stderr",
     "output_type": "stream",
     "text": [
      "c:\\users\\shyam\\documents\\github\\beaconrunnerv2\\env\\lib\\site-packages\\stable_baselines3\\common\\env_checker.py:272: UserWarning: We recommend you to use a symmetric and normalized Box action space (range=[-1, 1]) cf https://stable-baselines3.readthedocs.io/en/master/guide/rl_tips.html\n",
      "  warnings.warn(\n",
      "c:\\users\\shyam\\documents\\github\\beaconrunnerv2\\env\\lib\\site-packages\\gym\\logger.py:30: UserWarning: \u001b[33mWARN: Box bound precision lowered by casting to float32\u001b[0m\n",
      "  warnings.warn(colorize('%s: %s'%('WARN', msg % args), 'yellow'))\n"
     ]
    },
    {
     "name": "stdout",
     "output_type": "stream",
     "text": [
      "8 proposing block for slot 1\n",
      "11 proposing block for slot 2\n",
      "7 proposing block for slot 3\n",
      "6 proposing block for slot 4\n",
      "4 proposing block for slot 5\n",
      "3 proposing block for slot 6\n",
      "7 proposing block for slot 7\n",
      "5 proposing block for slot 8\n",
      "2 proposing block for slot 9\n",
      "timestep 100 of run 1\n",
      "2 proposing block for slot 10\n",
      "4 proposing block for slot 11\n"
     ]
    }
   ],
   "source": [
    "from stable_baselines3.common.env_checker import check_env\n",
    "\n",
    "env = rl_experiment.beacon_env\n",
    "check_env(env)"
   ]
  },
  {
   "cell_type": "code",
   "execution_count": null,
   "id": "c79ee216-0106-45cd-8493-e65ab43aebd2",
   "metadata": {},
   "outputs": [],
   "source": []
  }
 ],
 "metadata": {
  "kernelspec": {
   "display_name": "Python 3",
   "language": "python",
   "name": "python3"
  },
  "language_info": {
   "codemirror_mode": {
    "name": "ipython",
    "version": 3
   },
   "file_extension": ".py",
   "mimetype": "text/x-python",
   "name": "python",
   "nbconvert_exporter": "python",
   "pygments_lexer": "ipython3",
   "version": "3.8.2"
  }
 },
 "nbformat": 4,
 "nbformat_minor": 5
}
