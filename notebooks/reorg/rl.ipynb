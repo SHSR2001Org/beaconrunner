{
 "cells": [
  {
   "cell_type": "markdown",
   "id": "9e6f035f-0cae-47bb-b77e-3c8132dad588",
   "metadata": {},
   "source": [
    "## BeaconRL - A Consensus Layer Gym Environment "
   ]
  },
  {
   "cell_type": "markdown",
   "id": "dcdec427-c0d7-46e2-9259-5643001f1ead",
   "metadata": {},
   "source": [
    "Our goal for this preliminary gym environment is to integrate our existing radCAD simulation environment with OpenAI's gym framework, such that an RL agent will be able to take an action that affects the state of the simulation at each timestep. "
   ]
  },
  {
   "cell_type": "markdown",
   "id": "63910712-ed64-408a-8a5c-662f069cede1",
   "metadata": {},
   "source": [
    "### radCAD + Reinforcement Learning"
   ]
  },
  {
   "attachments": {
    "a29c907a-d92c-4f32-814f-c93e6b436443.png": {
     "image/png": "[encoded data removed]"
    }
   },
   "cell_type": "markdown",
   "id": "a25815df-d0ac-4b2c-9e79-fbb946f2ec1c",
   "metadata": {},
   "source": [
    "![image.png](attachment:a29c907a-d92c-4f32-814f-c93e6b436443.png)"
   ]
  },
  {
   "cell_type": "markdown",
   "id": "2ea1c26e-73d6-46e1-ba8e-c1cb68e9d2d1",
   "metadata": {},
   "source": [
    "The way the existing setup works is as follows. For each timestep:\n",
    "\n",
    "- The RL Agent takes an action \n",
    "- The action is inputted to the simulation as one of the parameters \n",
    "- The simulation moves by one timestep\n",
    "- The rules of the agent based simulation are programmed in such a way that the behaviour of only one of the agents depends on the value of this parameter (Eg. The agent takes an action A, only if the value of this parmeter = 0) \n",
    "- At the end of the timestep, the simulation outputs its current state and that particular agent's reward balance  and is read by the agent as its observation and reward\n",
    "\n",
    "Currently, each time the agent takes an action, 1 epoch (12 slots) are simulated based on the action taken by the agent"
   ]
  },
  {
   "cell_type": "markdown",
   "id": "e1cd65d9-f0ce-4302-abfe-e7ec3826add5",
   "metadata": {},
   "source": [
    "### Actions, Observations and Rewards"
   ]
  },
  {
   "cell_type": "markdown",
   "id": "fcb42380-245d-4e71-b5bc-5b7fe4c8a39c",
   "metadata": {},
   "source": [
    "Our current choice of actions, observations and rewards can be summarized in the table below"
   ]
  },
  {
   "cell_type": "markdown",
   "id": "10e00d3e-e98f-4be9-ac61-11b40b7a47eb",
   "metadata": {},
   "source": [
    "| Item  | Modelling | Description |\n",
    "| --------------- | --------------- | --------------- |\n",
    "| **Action Space** |`spaces.Box(np.array([0]),np.array([12]))`| The action space currently consists of one action - The time at which the agent releases the block it proposes. </br> </br> In PoS Ethereum, validators get rewarded for proposing blocks that eventually get included in the beaconchain. However, the probability of a proposer’s block being included on-chain depends on the time at which the block was released. </br> </br> We therefore allow the RL agent to decide when exactly they would release their block during the slot at which they are called to propose one. The lower bound is set to 0, and the upper bound is set to 12 which precisely captures the length of a single slot. </br> </br> Therefore, if an agent takes an action - 4, it means that they would release their block 4 seconds into the slot for which they are called to propose in that epoch. \n",
    "|\n",
    "| **Observation Space** | `spaces.Box(np.array([0]),np.array([12]))` | We simply return the action that the agent takes in the previous timestep as the observation to the agent. This is because, deciding when to release a block is independent of the state of the beaconchain, and therefore the state of the simulation\n",
    " |\n",
    "| **Rewards** | `current_balance - self.balance` | According to the PoS specs, validators get rewarded for carrying out their responsibilities perfectly. A validator can get the highest reward for an epoch when they propose a block that gets added to the chain when they are called to do so. </br> </br> To capture real life incentives as accurately as possible, we simply subtract the validator’s balance in the current timestep from the validator’s balance in the previous timestep which is indicative of the rewards they earned by carrying out their duties in the last epoch. \n"
   ]
  },
  {
   "cell_type": "markdown",
   "id": "09c191b0-0116-4742-be5f-7d50ebcd449c",
   "metadata": {},
   "source": [
    "Let us now import our gym environment and test it! "
   ]
  },
  {
   "cell_type": "markdown",
   "id": "795c87c7-0c86-47de-9701-afaa873081d6",
   "metadata": {},
   "source": [
    "### Housekeeping"
   ]
  },
  {
   "cell_type": "code",
   "execution_count": 1,
   "id": "ef696692-6e94-4469-bdb3-b54779364b16",
   "metadata": {},
   "outputs": [
    {
     "name": "stderr",
     "output_type": "stream",
     "text": [
      "c:\\users\\shyam\\documents\\github\\beaconrunnerv2\\env\\lib\\site-packages\\gym\\logger.py:30: UserWarning: \u001b[33mWARN: Box bound precision lowered by casting to float32\u001b[0m\n",
      "  warnings.warn(colorize('%s: %s'%('WARN', msg % args), 'yellow'))\n"
     ]
    }
   ],
   "source": [
    "import os, sys\n",
    "sys.path.append(\"./beaconrunner\")\n",
    "\n",
    "import numpy as np\n",
    "import pandas as pd\n",
    "\n",
    "import logging\n",
    "logger = logging.getLogger(__name__)\n",
    "logger.setLevel(logging.DEBUG)\n",
    "\n",
    "from experiments.run import run\n",
    "import experiments.templates.rl.experiment as rl_experiment"
   ]
  },
  {
   "cell_type": "markdown",
   "id": "66fcae4c-442e-44b7-afee-5c46fb08b807",
   "metadata": {},
   "source": [
    "### Testing the environment with Stable Baselines"
   ]
  },
  {
   "cell_type": "code",
   "execution_count": 2,
   "id": "e5e287c7-8489-40c7-b561-da2e2a18ba9e",
   "metadata": {},
   "outputs": [
    {
     "name": "stderr",
     "output_type": "stream",
     "text": [
      "c:\\users\\shyam\\documents\\github\\beaconrunnerv2\\env\\lib\\site-packages\\stable_baselines3\\common\\env_checker.py:272: UserWarning: We recommend you to use a symmetric and normalized Box action space (range=[-1, 1]) cf https://stable-baselines3.readthedocs.io/en/master/guide/rl_tips.html\n",
      "  warnings.warn(\n",
      "c:\\users\\shyam\\documents\\github\\beaconrunnerv2\\env\\lib\\site-packages\\gym\\logger.py:30: UserWarning: \u001b[33mWARN: Box bound precision lowered by casting to float32\u001b[0m\n",
      "  warnings.warn(colorize('%s: %s'%('WARN', msg % args), 'yellow'))\n"
     ]
    },
    {
     "name": "stdout",
     "output_type": "stream",
     "text": [
      "8 proposing block for slot 1\n",
      "11 proposing block for slot 2\n",
      "7 proposing block for slot 3\n",
      "6 proposing block for slot 4\n",
      "4 proposing block for slot 5\n",
      "3 proposing block for slot 6\n",
      "7 proposing block for slot 7\n",
      "5 proposing block for slot 8\n",
      "2 proposing block for slot 9\n",
      "timestep 100 of run 1\n",
      "2 proposing block for slot 10\n",
      "4 proposing block for slot 11\n"
     ]
    }
   ],
   "source": [
    "from stable_baselines3.common.env_checker import check_env\n",
    "env = rl_experiment.beacon_env\n",
    "check_env(env)"
   ]
  },
  {
   "cell_type": "markdown",
   "id": "982c6665-08fd-482c-9fb4-fd45b9005693",
   "metadata": {},
   "source": [
    "### Taking it for a spin!"
   ]
  },
  {
   "cell_type": "code",
   "execution_count": 3,
   "id": "77559d63-fde2-49aa-bae3-0898f4fda961",
   "metadata": {
    "tags": []
   },
   "outputs": [
    {
     "name": "stdout",
     "output_type": "stream",
     "text": [
      "Step 1\n",
      "8 proposing block for slot 1\n",
      "obs= [8.288712] reward= 0.0 done= False\n",
      "Step 2\n",
      "11 proposing block for slot 2\n",
      "obs= [1.510355] reward= 1239345 done= False\n",
      "Step 3\n",
      "7 proposing block for slot 3\n",
      "obs= [11.095332] reward= 0 done= False\n",
      "Step 4\n",
      "6 proposing block for slot 4\n",
      "obs= [2.0725167] reward= 0 done= False\n",
      "Step 5\n",
      "4 proposing block for slot 5\n",
      "obs= [11.697441] reward= 0 done= False\n",
      "Step 6\n",
      "3 proposing block for slot 6\n",
      "obs= [10.871921] reward= 0 done= False\n",
      "Step 7\n",
      "7 proposing block for slot 7\n",
      "obs= [10.556034] reward= 0 done= False\n",
      "Step 8\n",
      "5 proposing block for slot 8\n",
      "obs= [8.424196] reward= 2091398 done= False\n",
      "Step 9\n",
      "2 proposing block for slot 9\n",
      "timestep 100 of run 1\n",
      "obs= [5.206076] reward= 0 done= False\n",
      "Step 10\n",
      "2 proposing block for slot 10\n",
      "obs= [6.622622] reward= 0 done= False\n",
      "Step 11\n",
      "4 proposing block for slot 11\n",
      "obs= [5.8914757] reward= 0 done= False\n",
      "Step 12\n",
      "10 proposing block for slot 12\n",
      "obs= [6.5638275] reward= 2788533 done= False\n",
      "Step 13\n",
      "4 proposing block for slot 13\n",
      "obs= [5.2483006] reward= 0 done= False\n",
      "Step 14\n",
      "6 proposing block for slot 14\n",
      "obs= [10.922759] reward= 0 done= False\n",
      "Step 15\n",
      "4 proposing block for slot 15\n",
      "obs= [4.291006] reward= 0 done= False\n",
      "Step 16\n",
      "2 proposing block for slot 16\n",
      "obs= [7.2178154] reward= 2788533 done= True\n",
      "End of simulation!\n"
     ]
    }
   ],
   "source": [
    "obs = env.reset()\n",
    "# env.render()\n",
    "\n",
    "n_steps = 20\n",
    "for step in range(n_steps):\n",
    "    print(\"Step {}\".format(step + 1))\n",
    "    obs, reward, done, info = env.step(env.action_space.sample())\n",
    "    print('obs=', obs, 'reward=', reward, 'done=', done)\n",
    "    env.render()\n",
    "    if done:\n",
    "        print(\"End of simulation!\")\n",
    "        break"
   ]
  },
  {
   "cell_type": "markdown",
   "id": "da8db441-997e-421e-b6c3-8283cd5f611c",
   "metadata": {},
   "source": [
    "### Next steps"
   ]
  },
  {
   "cell_type": "markdown",
   "id": "7e439f77-925c-4221-a4d6-977b16c4bf3d",
   "metadata": {},
   "source": [
    "We are currently actively pursuing the following directions:\n",
    "\n",
    "- We aim to evaluvate whether or not an RL based framework can be used to identify potential attacks at an incentives level. We wish to begin by evaluvating whether we can use RL to train an agent to carry out the Ex-Ante reorg attack described in [1].\n",
    "    - We are therefore working on expanding the action space of our environment to include decisions such as which parent block the agent will build on \n",
    "    \n",
    "- Wr are also working on a new approach of training the agent in an abstracted, smaller scale environment thereby reducing the amount of computational resources needed to train the agent. "
   ]
  },
  {
   "cell_type": "markdown",
   "id": "4c8fcb37-8df9-48e4-9f3b-e1a368a70b98",
   "metadata": {},
   "source": [
    "### References"
   ]
  },
  {
   "cell_type": "markdown",
   "id": "9808a1c4-e6d8-4b9f-bd12-8fb959a2e5ec",
   "metadata": {},
   "source": [
    "[1] Schwarz-Schilling, C., Neu, J., Monnot, B., Asgaonkar, A., Tas, E. N., & Tse, D. (2021). Three Attacks on Proof-of-Stake Ethereum. arXiv preprint arXiv:2110.10086.\n"
   ]
  }
 ],
 "metadata": {
  "kernelspec": {
   "display_name": "Python 3",
   "language": "python",
   "name": "python3"
  },
  "language_info": {
   "codemirror_mode": {
    "name": "ipython",
    "version": 3
   },
   "file_extension": ".py",
   "mimetype": "text/x-python",
   "name": "python",
   "nbconvert_exporter": "python",
   "pygments_lexer": "ipython3",
   "version": "3.8.2"
  }
 },
 "nbformat": 4,
 "nbformat_minor": 5
}
