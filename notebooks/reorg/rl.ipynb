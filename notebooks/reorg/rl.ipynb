{
 "cells": [
  {
   "cell_type": "code",
   "execution_count": 1,
   "id": "ef696692-6e94-4469-bdb3-b54779364b16",
   "metadata": {},
   "outputs": [],
   "source": [
    "import os, sys\n",
    "sys.path.append(\"./beaconrunner\")\n",
    "\n",
    "import numpy as np\n",
    "import pandas as pd\n",
    "\n",
    "import logging\n",
    "logger = logging.getLogger(__name__)\n",
    "logger.setLevel(logging.DEBUG)\n",
    "\n",
    "from experiments.run import run\n",
    "import experiments.templates.rl.experiment as rl_experiment"
   ]
  },
  {
   "cell_type": "code",
   "execution_count": 2,
   "id": "77559d63-fde2-49aa-bae3-0898f4fda961",
   "metadata": {
    "tags": []
   },
   "outputs": [
    {
     "name": "stderr",
     "output_type": "stream",
     "text": [
      "/Users/barnabe/Documents/Research/Projects/beaconrunner/venv/lib/python3.8/site-packages/gym/spaces/box.py:73: UserWarning: \u001b[33mWARN: Box bound precision lowered by casting to float32\u001b[0m\n",
      "  logger.warn(\n"
     ]
    },
    {
     "name": "stdout",
     "output_type": "stream",
     "text": [
      "8 proposing block for slot 1\n",
      "Episode: 0, States: [3.2050037], Score: 0.0\n",
      "11 proposing block for slot 2\n",
      "Episode: 0, States: [3.2050037, 5.4096503], Score: 1239345.0\n",
      "7 proposing block for slot 3\n",
      "Episode: 0, States: [3.2050037, 5.4096503, 11.214878], Score: 1239345.0\n",
      "6 proposing block for slot 4\n",
      "Episode: 0, States: [3.2050037, 5.4096503, 11.214878, 1.0656875], Score: 1239345.0\n",
      "4 proposing block for slot 5\n",
      "Episode: 0, States: [3.2050037, 5.4096503, 11.214878, 1.0656875, 0.14284763], Score: 1239345.0\n",
      "3 proposing block for slot 6\n",
      "Episode: 0, States: [3.2050037, 5.4096503, 11.214878, 1.0656875, 0.14284763, 4.384955], Score: 1239345.0\n",
      "7 proposing block for slot 7\n",
      "Episode: 0, States: [3.2050037, 5.4096503, 11.214878, 1.0656875, 0.14284763, 4.384955, 0.67949176], Score: 1239345.0\n",
      "5 proposing block for slot 8\n",
      "Episode: 0, States: [3.2050037, 5.4096503, 11.214878, 1.0656875, 0.14284763, 4.384955, 0.67949176, 10.468998], Score: 2788529.0\n",
      "2 proposing block for slot 9\n",
      "timestep 100 of run 1\n",
      "Episode: 0, States: [3.2050037, 5.4096503, 11.214878, 1.0656875, 0.14284763, 4.384955, 0.67949176, 10.468998, 1.221778], Score: 2788529.0\n",
      "2 proposing block for slot 10\n",
      "Episode: 0, States: [3.2050037, 5.4096503, 11.214878, 1.0656875, 0.14284763, 4.384955, 0.67949176, 10.468998, 1.221778, 6.723644], Score: 2788529.0\n",
      "4 proposing block for slot 11\n",
      "Episode: 0, States: [3.2050037, 5.4096503, 11.214878, 1.0656875, 0.14284763, 4.384955, 0.67949176, 10.468998, 1.221778, 6.723644, 3.824318], Score: 2788529.0\n",
      "10 proposing block for slot 12\n",
      "Episode: 0, States: [3.2050037, 5.4096503, 11.214878, 1.0656875, 0.14284763, 4.384955, 0.67949176, 10.468998, 1.221778, 6.723644, 3.824318, 9.367452], Score: 5577062.0\n",
      "4 proposing block for slot 13\n",
      "Episode: 0, States: [3.2050037, 5.4096503, 11.214878, 1.0656875, 0.14284763, 4.384955, 0.67949176, 10.468998, 1.221778, 6.723644, 3.824318, 9.367452, 9.051986], Score: 5577062.0\n",
      "6 proposing block for slot 14\n",
      "Episode: 0, States: [3.2050037, 5.4096503, 11.214878, 1.0656875, 0.14284763, 4.384955, 0.67949176, 10.468998, 1.221778, 6.723644, 3.824318, 9.367452, 9.051986, 7.127846], Score: 5577062.0\n",
      "4 proposing block for slot 15\n",
      "Episode: 0, States: [3.2050037, 5.4096503, 11.214878, 1.0656875, 0.14284763, 4.384955, 0.67949176, 10.468998, 1.221778, 6.723644, 3.824318, 9.367452, 9.051986, 7.127846, 7.949044], Score: 5577062.0\n",
      "2 proposing block for slot 16\n",
      "Episode: 0, States: [3.2050037, 5.4096503, 11.214878, 1.0656875, 0.14284763, 4.384955, 0.67949176, 10.468998, 1.221778, 6.723644, 3.824318, 9.367452, 9.051986, 7.127846, 7.949044, 4.2957807], Score: 8365595.0\n"
     ]
    }
   ],
   "source": [
    "env = rl_experiment.beacon_env\n",
    "\n",
    "for episode in range(1):\n",
    "    state = env.reset()\n",
    "    score = 0\n",
    "    done = False\n",
    "    states = []\n",
    "    \n",
    "    while not done:\n",
    "        action = env.action_space.sample()\n",
    "        state, balance_diff, done, info = env.step(action)\n",
    "        states.append(state)\n",
    "        score += balance_diff\n",
    "        print('Episode: {}, States: {}, Score: {}'.format(episode, states, score))"
   ]
  }
 ],
 "metadata": {
  "kernelspec": {
   "display_name": "Python 3",
   "language": "python",
   "name": "python3"
  },
  "language_info": {
   "codemirror_mode": {
    "name": "ipython",
    "version": 3
   },
   "file_extension": ".py",
   "mimetype": "text/x-python",
   "name": "python",
   "nbconvert_exporter": "python",
   "pygments_lexer": "ipython3",
   "version": "3.8.2"
  }
 },
 "nbformat": 4,
 "nbformat_minor": 5
}
